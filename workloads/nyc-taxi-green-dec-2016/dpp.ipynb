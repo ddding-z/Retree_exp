{
 "cells": [
  {
   "cell_type": "code",
   "execution_count": 3,
   "metadata": {},
   "outputs": [
    {
     "name": "stdout",
     "output_type": "stream",
     "text": [
      "\"passenger_count\",\n",
      "\"tolls_amount\",\n",
      "\"total_amount\",\n",
      "\"lpep_pickup_datetime_day\",\n",
      "\"lpep_pickup_datetime_hour\",\n",
      "\"lpep_pickup_datetime_minute\",\n",
      "\"lpep_dropoff_datetime_day\",\n",
      "\"lpep_dropoff_datetime_hour\",\n",
      "\"lpep_dropoff_datetime_minute\",\n",
      "\"tipamount\",\n"
     ]
    }
   ],
   "source": [
    "import pandas as pd\n",
    "\n",
    "data = pd.read_csv('nyc-taxi-green-dec-2016.csv')\n",
    "\n",
    "for col in data.columns:\n",
    "    print('\\\"' + col + '\\\",')"
   ]
  }
 ],
 "metadata": {
  "kernelspec": {
   "display_name": "ml_predicate",
   "language": "python",
   "name": "python3"
  },
  "language_info": {
   "codemirror_mode": {
    "name": "ipython",
    "version": 3
   },
   "file_extension": ".py",
   "mimetype": "text/x-python",
   "name": "python",
   "nbconvert_exporter": "python",
   "pygments_lexer": "ipython3",
   "version": "3.10.14"
  }
 },
 "nbformat": 4,
 "nbformat_minor": 2
}
